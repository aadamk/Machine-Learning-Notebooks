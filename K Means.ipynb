{
 "cells": [
  {
   "cell_type": "markdown",
   "metadata": {},
   "source": [
    "# K-Means Clustering\n",
    "\n",
    "k-means clustering algorithm, BBC dataset.\n"
   ]
  },
  {
   "cell_type": "markdown",
   "metadata": {},
   "source": [
    "## Data Prep\n"
   ]
  },
  {
   "cell_type": "code",
   "execution_count": 1,
   "metadata": {
    "collapsed": true
   },
   "outputs": [],
   "source": [
    "import pandas as pd\n",
    "import sklearn\n",
    "import matplotlib.pyplot as plt\n",
    "import numpy as np\n",
    "import scipy.io\n",
    "\n"
   ]
  },
  {
   "cell_type": "code",
   "execution_count": 33,
   "metadata": {
    "collapsed": true
   },
   "outputs": [],
   "source": [
    "\n",
    "bbc_mtx=scipy.io.mmread('bbc.mtx').todense().transpose()\n",
    "bbc_terms=pd.read_csv('bbc.terms',sep ='\\t', header=None,names=['words'])\n",
    "bbc_df=pd.DataFrame(bbc_mtx, columns=bbc_terms['words'])\n",
    "del bbc_df.index.name\n",
    "\n",
    "document_class=pd.read_csv('bbc.classes', sep=' ', skiprows=[0,1,2,3], names=['index','class'])\n",
    "document_class=document_class.set_index('index')\n",
    "document_class=document_class.iloc[:,0]\n"
   ]
  },
  {
   "cell_type": "code",
   "execution_count": 34,
   "metadata": {},
   "outputs": [
    {
     "data": {
      "text/html": [
       "<div>\n",
       "<style>\n",
       "    .dataframe thead tr:only-child th {\n",
       "        text-align: right;\n",
       "    }\n",
       "\n",
       "    .dataframe thead th {\n",
       "        text-align: left;\n",
       "    }\n",
       "\n",
       "    .dataframe tbody tr th {\n",
       "        vertical-align: top;\n",
       "    }\n",
       "</style>\n",
       "<table border=\"1\" class=\"dataframe\">\n",
       "  <thead>\n",
       "    <tr style=\"text-align: right;\">\n",
       "      <th>words</th>\n",
       "      <th>ad</th>\n",
       "      <th>sale</th>\n",
       "      <th>boost</th>\n",
       "      <th>time</th>\n",
       "      <th>warner</th>\n",
       "      <th>profit</th>\n",
       "      <th>quarterli</th>\n",
       "      <th>media</th>\n",
       "      <th>giant</th>\n",
       "      <th>jump</th>\n",
       "      <th>...</th>\n",
       "      <th>£339</th>\n",
       "      <th>denialofservic</th>\n",
       "      <th>ddo</th>\n",
       "      <th>seagrav</th>\n",
       "      <th>bot</th>\n",
       "      <th>wirelessli</th>\n",
       "      <th>streamcast</th>\n",
       "      <th>peripher</th>\n",
       "      <th>headphon</th>\n",
       "      <th>flavour</th>\n",
       "    </tr>\n",
       "  </thead>\n",
       "  <tbody>\n",
       "    <tr>\n",
       "      <th>0</th>\n",
       "      <td>1.0</td>\n",
       "      <td>5.0</td>\n",
       "      <td>2.0</td>\n",
       "      <td>3.0</td>\n",
       "      <td>4.0</td>\n",
       "      <td>10.0</td>\n",
       "      <td>1.0</td>\n",
       "      <td>1.0</td>\n",
       "      <td>1.0</td>\n",
       "      <td>1.0</td>\n",
       "      <td>...</td>\n",
       "      <td>0.0</td>\n",
       "      <td>0.0</td>\n",
       "      <td>0.0</td>\n",
       "      <td>0.0</td>\n",
       "      <td>0.0</td>\n",
       "      <td>0.0</td>\n",
       "      <td>0.0</td>\n",
       "      <td>0.0</td>\n",
       "      <td>0.0</td>\n",
       "      <td>0.0</td>\n",
       "    </tr>\n",
       "    <tr>\n",
       "      <th>1</th>\n",
       "      <td>0.0</td>\n",
       "      <td>0.0</td>\n",
       "      <td>1.0</td>\n",
       "      <td>2.0</td>\n",
       "      <td>0.0</td>\n",
       "      <td>0.0</td>\n",
       "      <td>0.0</td>\n",
       "      <td>0.0</td>\n",
       "      <td>0.0</td>\n",
       "      <td>0.0</td>\n",
       "      <td>...</td>\n",
       "      <td>0.0</td>\n",
       "      <td>0.0</td>\n",
       "      <td>0.0</td>\n",
       "      <td>0.0</td>\n",
       "      <td>0.0</td>\n",
       "      <td>0.0</td>\n",
       "      <td>0.0</td>\n",
       "      <td>0.0</td>\n",
       "      <td>0.0</td>\n",
       "      <td>0.0</td>\n",
       "    </tr>\n",
       "    <tr>\n",
       "      <th>2</th>\n",
       "      <td>0.0</td>\n",
       "      <td>4.0</td>\n",
       "      <td>0.0</td>\n",
       "      <td>0.0</td>\n",
       "      <td>0.0</td>\n",
       "      <td>0.0</td>\n",
       "      <td>0.0</td>\n",
       "      <td>0.0</td>\n",
       "      <td>1.0</td>\n",
       "      <td>0.0</td>\n",
       "      <td>...</td>\n",
       "      <td>0.0</td>\n",
       "      <td>0.0</td>\n",
       "      <td>0.0</td>\n",
       "      <td>0.0</td>\n",
       "      <td>0.0</td>\n",
       "      <td>0.0</td>\n",
       "      <td>0.0</td>\n",
       "      <td>0.0</td>\n",
       "      <td>0.0</td>\n",
       "      <td>0.0</td>\n",
       "    </tr>\n",
       "    <tr>\n",
       "      <th>3</th>\n",
       "      <td>0.0</td>\n",
       "      <td>1.0</td>\n",
       "      <td>0.0</td>\n",
       "      <td>0.0</td>\n",
       "      <td>0.0</td>\n",
       "      <td>4.0</td>\n",
       "      <td>1.0</td>\n",
       "      <td>0.0</td>\n",
       "      <td>0.0</td>\n",
       "      <td>0.0</td>\n",
       "      <td>...</td>\n",
       "      <td>0.0</td>\n",
       "      <td>0.0</td>\n",
       "      <td>0.0</td>\n",
       "      <td>0.0</td>\n",
       "      <td>0.0</td>\n",
       "      <td>0.0</td>\n",
       "      <td>0.0</td>\n",
       "      <td>0.0</td>\n",
       "      <td>0.0</td>\n",
       "      <td>0.0</td>\n",
       "    </tr>\n",
       "    <tr>\n",
       "      <th>4</th>\n",
       "      <td>0.0</td>\n",
       "      <td>0.0</td>\n",
       "      <td>0.0</td>\n",
       "      <td>1.0</td>\n",
       "      <td>0.0</td>\n",
       "      <td>0.0</td>\n",
       "      <td>0.0</td>\n",
       "      <td>0.0</td>\n",
       "      <td>1.0</td>\n",
       "      <td>0.0</td>\n",
       "      <td>...</td>\n",
       "      <td>0.0</td>\n",
       "      <td>0.0</td>\n",
       "      <td>0.0</td>\n",
       "      <td>0.0</td>\n",
       "      <td>0.0</td>\n",
       "      <td>0.0</td>\n",
       "      <td>0.0</td>\n",
       "      <td>0.0</td>\n",
       "      <td>0.0</td>\n",
       "      <td>0.0</td>\n",
       "    </tr>\n",
       "  </tbody>\n",
       "</table>\n",
       "<p>5 rows × 9635 columns</p>\n",
       "</div>"
      ],
      "text/plain": [
       "words   ad  sale  boost  time  warner  profit  quarterli  media  giant  jump  \\\n",
       "0      1.0   5.0    2.0   3.0     4.0    10.0        1.0    1.0    1.0   1.0   \n",
       "1      0.0   0.0    1.0   2.0     0.0     0.0        0.0    0.0    0.0   0.0   \n",
       "2      0.0   4.0    0.0   0.0     0.0     0.0        0.0    0.0    1.0   0.0   \n",
       "3      0.0   1.0    0.0   0.0     0.0     4.0        1.0    0.0    0.0   0.0   \n",
       "4      0.0   0.0    0.0   1.0     0.0     0.0        0.0    0.0    1.0   0.0   \n",
       "\n",
       "words   ...     £339  denialofservic  ddo  seagrav  bot  wirelessli  \\\n",
       "0       ...      0.0             0.0  0.0      0.0  0.0         0.0   \n",
       "1       ...      0.0             0.0  0.0      0.0  0.0         0.0   \n",
       "2       ...      0.0             0.0  0.0      0.0  0.0         0.0   \n",
       "3       ...      0.0             0.0  0.0      0.0  0.0         0.0   \n",
       "4       ...      0.0             0.0  0.0      0.0  0.0         0.0   \n",
       "\n",
       "words  streamcast  peripher  headphon  flavour  \n",
       "0             0.0       0.0       0.0      0.0  \n",
       "1             0.0       0.0       0.0      0.0  \n",
       "2             0.0       0.0       0.0      0.0  \n",
       "3             0.0       0.0       0.0      0.0  \n",
       "4             0.0       0.0       0.0      0.0  \n",
       "\n",
       "[5 rows x 9635 columns]"
      ]
     },
     "execution_count": 34,
     "metadata": {},
     "output_type": "execute_result"
    }
   ],
   "source": [
    "bbc_df.head()"
   ]
  },
  {
   "cell_type": "code",
   "execution_count": 5,
   "metadata": {},
   "outputs": [
    {
     "data": {
      "text/plain": [
       "index\n",
       "0       0\n",
       "1       0\n",
       "2       0\n",
       "3       0\n",
       "4       0\n",
       "5       0\n",
       "6       0\n",
       "7       0\n",
       "8       0\n",
       "9       0\n",
       "10      0\n",
       "11      0\n",
       "12      0\n",
       "13      0\n",
       "14      0\n",
       "15      0\n",
       "16      0\n",
       "17      0\n",
       "18      0\n",
       "19      0\n",
       "20      0\n",
       "21      0\n",
       "22      0\n",
       "23      0\n",
       "24      0\n",
       "25      0\n",
       "26      0\n",
       "27      0\n",
       "28      0\n",
       "29      0\n",
       "       ..\n",
       "2195    4\n",
       "2196    4\n",
       "2197    4\n",
       "2198    4\n",
       "2199    4\n",
       "2200    4\n",
       "2201    4\n",
       "2202    4\n",
       "2203    4\n",
       "2204    4\n",
       "2205    4\n",
       "2206    4\n",
       "2207    4\n",
       "2208    4\n",
       "2209    4\n",
       "2210    4\n",
       "2211    4\n",
       "2212    4\n",
       "2213    4\n",
       "2214    4\n",
       "2215    4\n",
       "2216    4\n",
       "2217    4\n",
       "2218    4\n",
       "2219    4\n",
       "2220    4\n",
       "2221    4\n",
       "2222    4\n",
       "2223    4\n",
       "2224    4\n",
       "Name: class, Length: 2225, dtype: int64"
      ]
     },
     "execution_count": 5,
     "metadata": {},
     "output_type": "execute_result"
    }
   ],
   "source": [
    "document_class"
   ]
  },
  {
   "cell_type": "markdown",
   "metadata": {},
   "source": [
    "## Computing K-Means Clusters"
   ]
  },
  {
   "cell_type": "code",
   "execution_count": 35,
   "metadata": {
    "collapsed": true
   },
   "outputs": [],
   "source": [
    "from sklearn.cluster import KMeans\n",
    "bbc_mat=bbc_df.as_matrix()"
   ]
  },
  {
   "cell_type": "code",
   "execution_count": 16,
   "metadata": {},
   "outputs": [],
   "source": [
    "distortions=[]\n",
    "for i in range(1,11):\n",
    "    km=KMeans(n_clusters=i, init='random', n_init=30, max_iter=300, random_state=0).fit(bbc_mat)\n",
    "    distortions.append(km.inertia_)\n",
    "\n"
   ]
  },
  {
   "cell_type": "code",
   "execution_count": 18,
   "metadata": {},
   "outputs": [
    {
     "data": {
      "image/png": "[encoded data removed]",
      "text/plain": [
       "<matplotlib.figure.Figure at 0x16e35160>"
      ]
     },
     "metadata": {},
     "output_type": "display_data"
    }
   ],
   "source": [
    "# plot distortion, not these attributes!\n",
    "plt.plot(range(1,11),distortions, c='blue', marker='o')\n",
    "plt.show()"
   ]
  },
  {
   "cell_type": "markdown",
   "metadata": {},
   "source": [
    "##  \n",
    "distortions are a list where the index corresponds to the total distortion using that number of clusters"
   ]
  },
  {
   "cell_type": "raw",
   "metadata": {},
   "source": [
    "6"
   ]
  },
  {
   "cell_type": "code",
   "execution_count": 20,
   "metadata": {},
   "outputs": [
    {
     "data": {
      "text/plain": [
       "['None',\n",
       " 'None',\n",
       " 1070889.8681838671,\n",
       " 1051938.5474288887,\n",
       " 1035834.9386071024,\n",
       " 1024659.7688110314,\n",
       " 1014414.0501342831,\n",
       " 999965.29646604729,\n",
       " 990088.66911816795,\n",
       " 985420.27479406528,\n",
       " 975103.74528361089]"
      ]
     },
     "execution_count": 20,
     "metadata": {},
     "output_type": "execute_result"
    }
   ],
   "source": [
    "# Output Distortions\n",
    "a=['None']\n",
    "distortions[0]='None'\n",
    "a + distortions"
   ]
  },
  {
   "cell_type": "raw",
   "metadata": {},
   "source": [
    "Feature Scaling"
   ]
  },
  {
   "cell_type": "code",
   "execution_count": 21,
   "metadata": {},
   "outputs": [],
   "source": [
    "#scale with min/max\n",
    "from sklearn import preprocessing\n",
    "\n",
    "\n",
    "min_max_scaler = preprocessing.MinMaxScaler()\n",
    "\n",
    "bbc_mat_scaled = min_max_scaler.fit_transform(bbc_mat)\n",
    "distortions2=[]\n",
    "for i in range(1,11):\n",
    "    km=KMeans(n_clusters=i, init='random', n_init=30, max_iter=300, random_state=0).fit(bbc_mat_scaled)\n",
    "    distortions2.append(km.inertia_)"
   ]
  },
  {
   "cell_type": "code",
   "execution_count": 22,
   "metadata": {},
   "outputs": [
    {
     "data": {
      "image/png": "[encoded data removed]",
      "text/plain": [
       "<matplotlib.figure.Figure at 0x16daf278>"
      ]
     },
     "metadata": {},
     "output_type": "display_data"
    }
   ],
   "source": [
    "# update plot\n",
    "plt.plot(range(1,11),distortions2, c='blue', marker='o')\n",
    "\n",
    "plt.show()"
   ]
  },
  {
   "cell_type": "code",
   "execution_count": 25,
   "metadata": {
    "collapsed": true
   },
   "outputs": [],
   "source": [
    "# scale Boolean\n",
    "bbc_mat2=bbc_mat\n",
    "bbc_mat2[bbc_mat2 != 0]=1\n",
    "distortions3=[]\n",
    "for i in range(1,11):\n",
    "    km=KMeans(n_clusters=i, init='random', n_init=30, max_iter=300, random_state=0).fit(bbc_mat2)\n",
    "    distortions3.append(km.inertia_)"
   ]
  },
  {
   "cell_type": "code",
   "execution_count": 26,
   "metadata": {},
   "outputs": [
    {
     "data": {
      "image/png": "[encoded data removed]",
      "text/plain": [
       "<matplotlib.figure.Figure at 0x16551588>"
      ]
     },
     "metadata": {},
     "output_type": "display_data"
    }
   ],
   "source": [
    "# update plot\n",
    "plt.plot(range(1,11),distortions3, c='blue', marker='o')\n",
    "\n",
    "plt.show()"
   ]
  },
  {
   "cell_type": "code",
   "execution_count": 27,
   "metadata": {},
   "outputs": [
    {
     "data": {
      "text/plain": [
       "['None',\n",
       " 'None',\n",
       " 52126.321592112996,\n",
       " 51914.913496705696,\n",
       " 51816.863743916903,\n",
       " 51667.194738693717,\n",
       " 51652.812150477177,\n",
       " 51631.921171240996,\n",
       " 51503.498798472858,\n",
       " 51427.900834439955,\n",
       " 51411.311880990936]"
      ]
     },
     "execution_count": 27,
     "metadata": {},
     "output_type": "execute_result"
    }
   ],
   "source": [
    "# Output Scaled Distortions\n",
    "distortions2[0]='None'\n",
    "a + distortions2"
   ]
  },
  {
   "cell_type": "code",
   "execution_count": 28,
   "metadata": {},
   "outputs": [
    {
     "data": {
      "text/plain": [
       "['None',\n",
       " 'None',\n",
       " 260116.6405640911,\n",
       " 257490.02839872747,\n",
       " 255131.80428279497,\n",
       " 253287.96490233613,\n",
       " 253108.71214907069,\n",
       " 252615.22843548973,\n",
       " 252429.05559717535,\n",
       " 251539.08186750309,\n",
       " 250960.96576807476]"
      ]
     },
     "execution_count": 28,
     "metadata": {},
     "output_type": "execute_result"
    }
   ],
   "source": [
    "# Output Binary Distortions\n",
    "distortions3[0]='None'\n",
    "a + distortions3"
   ]
  },
  {
   "cell_type": "markdown",
   "metadata": {},
   "source": [
    "## Dimensionality Reduction via PCA"
   ]
  },
  {
   "cell_type": "code",
   "execution_count": 47,
   "metadata": {
    "collapsed": true
   },
   "outputs": [],
   "source": [
    "from sklearn.decomposition import PCA\n",
    "pca_model = PCA(n_components = 1000)\n",
    "pca_model.fit(bbc_mat2)\n",
    "\n",
    "# create cumulative sum of variance\n",
    "variance = pca_model.explained_variance_ratio_ #calculate variance ratios                                        \n",
    "\n",
    "\n",
    "# cumulative sum of variance, for the first [n] features\n",
    "\n",
    "cv=np.cumsum(np.round(pca_model.explained_variance_ratio_,decimals=3)*100)\n",
    "\n"
   ]
  },
  {
   "cell_type": "code",
   "execution_count": 48,
   "metadata": {},
   "outputs": [
    {
     "data": {
      "image/png": "[encoded data removed]",
      "text/plain": [
       "<matplotlib.figure.Figure at 0x17fc7710>"
      ]
     },
     "metadata": {},
     "output_type": "display_data"
    }
   ],
   "source": [
    "#Plot cv vs features\n",
    "plt.plot(range(1,1001),cv, c='blue', marker='o')\n",
    "\n",
    "plt.show()"
   ]
  },
  {
   "cell_type": "code",
   "execution_count": 59,
   "metadata": {},
   "outputs": [
    {
     "data": {
      "image/png": "[encoded data removed]",
      "text/plain": [
       "<matplotlib.figure.Figure at 0x185e0f60>"
      ]
     },
     "metadata": {},
     "output_type": "display_data"
    }
   ],
   "source": [
    "# Re-run PCA with the \"correct\" number of features and then run K-means in one the PCA transformed data.\n",
    "pca_model2 = PCA(n_components = 600)\n",
    "pca_model2.fit(bbc_mat2)\n",
    "\n",
    "X_PCA=pca_model2.fit_transform(bbc_mat2)\n",
    "distortions4=[]\n",
    "for i in range(1,11):\n",
    "    km=KMeans(n_clusters=i, init='random', n_init=30, max_iter=300, random_state=0).fit(X_PCA)\n",
    "    distortions4.append(km.inertia_)\n",
    "plt.plot(range(1,11),distortions4, c='blue', marker='o')\n",
    "plt.show()"
   ]
  },
  {
   "cell_type": "markdown",
   "metadata": {},
   "source": [
    "## Results\n",
    "number of features "
   ]
  },
  {
   "cell_type": "raw",
   "metadata": {},
   "source": [
    "600"
   ]
  },
  {
   "cell_type": "raw",
   "metadata": {},
   "source": [
    "5"
   ]
  },
  {
   "cell_type": "code",
   "execution_count": 60,
   "metadata": {},
   "outputs": [
    {
     "data": {
      "text/plain": [
       "['None',\n",
       " 'None',\n",
       " 190118.48986792014,\n",
       " 187488.84869942802,\n",
       " 185106.49157289186,\n",
       " 183315.23384209111,\n",
       " 182368.7359789699,\n",
       " 182001.68277157049,\n",
       " 181745.88599990529,\n",
       " 181097.30317880758,\n",
       " 180670.16219389765]"
      ]
     },
     "execution_count": 60,
     "metadata": {},
     "output_type": "execute_result"
    }
   ],
   "source": [
    "# Output Distortions\n",
    "distortions4[0]='None'\n",
    "a + distortions4"
   ]
  },
  {
   "cell_type": "markdown",
   "metadata": {},
   "source": [
    "## Evaluating Cluster Results\n"
   ]
  },
  {
   "cell_type": "code",
   "execution_count": 61,
   "metadata": {
    "collapsed": true
   },
   "outputs": [],
   "source": [
    "from statistics import mode\n",
    "#mix_max_scaler produced the lowest distortion at k=5.\n",
    "\n",
    "km5=KMeans(n_clusters=5, init='random', n_init=30, max_iter=300, random_state=0).fit(bbc_mat_scaled)\n"
   ]
  },
  {
   "cell_type": "code",
   "execution_count": 102,
   "metadata": {},
   "outputs": [
    {
     "data": {
      "text/html": [
       "<div>\n",
       "<style>\n",
       "    .dataframe thead tr:only-child th {\n",
       "        text-align: right;\n",
       "    }\n",
       "\n",
       "    .dataframe thead th {\n",
       "        text-align: left;\n",
       "    }\n",
       "\n",
       "    .dataframe tbody tr th {\n",
       "        vertical-align: top;\n",
       "    }\n",
       "</style>\n",
       "<table border=\"1\" class=\"dataframe\">\n",
       "  <thead>\n",
       "    <tr style=\"text-align: right;\">\n",
       "      <th></th>\n",
       "      <th>document_class</th>\n",
       "    </tr>\n",
       "    <tr>\n",
       "      <th>cluster</th>\n",
       "      <th></th>\n",
       "    </tr>\n",
       "  </thead>\n",
       "  <tbody>\n",
       "    <tr>\n",
       "      <th>0</th>\n",
       "      <td>3</td>\n",
       "    </tr>\n",
       "    <tr>\n",
       "      <th>1</th>\n",
       "      <td>2</td>\n",
       "    </tr>\n",
       "    <tr>\n",
       "      <th>2</th>\n",
       "      <td>3</td>\n",
       "    </tr>\n",
       "    <tr>\n",
       "      <th>3</th>\n",
       "      <td>2</td>\n",
       "    </tr>\n",
       "    <tr>\n",
       "      <th>4</th>\n",
       "      <td>3</td>\n",
       "    </tr>\n",
       "  </tbody>\n",
       "</table>\n",
       "</div>"
      ],
      "text/plain": [
       "         document_class\n",
       "cluster                \n",
       "0                     3\n",
       "1                     2\n",
       "2                     3\n",
       "3                     2\n",
       "4                     3"
      ]
     },
     "execution_count": 102,
     "metadata": {},
     "output_type": "execute_result"
    }
   ],
   "source": [
    "km5_df=pd.DataFrame(data=km5.labels_[:,], columns=['cluster'])\n",
    "km5_df['document_class']=document_class\n",
    "km5_df2 = km5_df.groupby('cluster').agg({'document_class': lambda x: x.mode()})\n",
    "km5_df2"
   ]
  },
  {
   "cell_type": "markdown",
   "metadata": {},
   "source": [
    "## Misclassification"
   ]
  },
  {
   "cell_type": "code",
   "execution_count": 99,
   "metadata": {},
   "outputs": [
    {
     "data": {
      "text/html": [
       "<div>\n",
       "<style>\n",
       "    .dataframe thead tr:only-child th {\n",
       "        text-align: right;\n",
       "    }\n",
       "\n",
       "    .dataframe thead th {\n",
       "        text-align: left;\n",
       "    }\n",
       "\n",
       "    .dataframe tbody tr th {\n",
       "        vertical-align: top;\n",
       "    }\n",
       "</style>\n",
       "<table border=\"1\" class=\"dataframe\">\n",
       "  <thead>\n",
       "    <tr style=\"text-align: right;\">\n",
       "      <th></th>\n",
       "      <th>cluster</th>\n",
       "      <th>document_class</th>\n",
       "      <th>Occurrences</th>\n",
       "    </tr>\n",
       "  </thead>\n",
       "  <tbody>\n",
       "    <tr>\n",
       "      <th>0</th>\n",
       "      <td>0</td>\n",
       "      <td>0</td>\n",
       "      <td>452</td>\n",
       "    </tr>\n",
       "    <tr>\n",
       "      <th>1</th>\n",
       "      <td>0</td>\n",
       "      <td>1</td>\n",
       "      <td>364</td>\n",
       "    </tr>\n",
       "    <tr>\n",
       "      <th>2</th>\n",
       "      <td>0</td>\n",
       "      <td>2</td>\n",
       "      <td>142</td>\n",
       "    </tr>\n",
       "    <tr>\n",
       "      <th>3</th>\n",
       "      <td>0</td>\n",
       "      <td>3</td>\n",
       "      <td>490</td>\n",
       "    </tr>\n",
       "    <tr>\n",
       "      <th>4</th>\n",
       "      <td>0</td>\n",
       "      <td>4</td>\n",
       "      <td>156</td>\n",
       "    </tr>\n",
       "    <tr>\n",
       "      <th>5</th>\n",
       "      <td>1</td>\n",
       "      <td>2</td>\n",
       "      <td>1</td>\n",
       "    </tr>\n",
       "    <tr>\n",
       "      <th>6</th>\n",
       "      <td>2</td>\n",
       "      <td>3</td>\n",
       "      <td>1</td>\n",
       "    </tr>\n",
       "    <tr>\n",
       "      <th>7</th>\n",
       "      <td>3</td>\n",
       "      <td>0</td>\n",
       "      <td>58</td>\n",
       "    </tr>\n",
       "    <tr>\n",
       "      <th>8</th>\n",
       "      <td>3</td>\n",
       "      <td>1</td>\n",
       "      <td>22</td>\n",
       "    </tr>\n",
       "    <tr>\n",
       "      <th>9</th>\n",
       "      <td>3</td>\n",
       "      <td>2</td>\n",
       "      <td>274</td>\n",
       "    </tr>\n",
       "    <tr>\n",
       "      <th>10</th>\n",
       "      <td>3</td>\n",
       "      <td>3</td>\n",
       "      <td>14</td>\n",
       "    </tr>\n",
       "    <tr>\n",
       "      <th>11</th>\n",
       "      <td>3</td>\n",
       "      <td>4</td>\n",
       "      <td>245</td>\n",
       "    </tr>\n",
       "    <tr>\n",
       "      <th>12</th>\n",
       "      <td>4</td>\n",
       "      <td>3</td>\n",
       "      <td>6</td>\n",
       "    </tr>\n",
       "  </tbody>\n",
       "</table>\n",
       "</div>"
      ],
      "text/plain": [
       "    cluster  document_class  Occurrences\n",
       "0         0               0          452\n",
       "1         0               1          364\n",
       "2         0               2          142\n",
       "3         0               3          490\n",
       "4         0               4          156\n",
       "5         1               2            1\n",
       "6         2               3            1\n",
       "7         3               0           58\n",
       "8         3               1           22\n",
       "9         3               2          274\n",
       "10        3               3           14\n",
       "11        3               4          245\n",
       "12        4               3            6"
      ]
     },
     "execution_count": 99,
     "metadata": {},
     "output_type": "execute_result"
    }
   ],
   "source": [
    "km5_df.groupby([\"cluster\", \"document_class\"]).size().reset_index(name=\"Occurrences\")"
   ]
  },
  {
   "cell_type": "markdown",
   "metadata": {},
   "source": [
    "## Misclassification rate\n",
    "ratio between the number of misclassifications and the total number of rows."
   ]
  },
  {
   "cell_type": "raw",
   "metadata": {},
   "source": [
    "1759/2225"
   ]
  }
 ],
 "metadata": {
  "kernelspec": {
   "display_name": "Python 3",
   "language": "python",
   "name": "python3"
  },
  "language_info": {
   "codemirror_mode": {
    "name": "ipython",
    "version": 3
   },
   "file_extension": ".py",
   "mimetype": "text/x-python",
   "name": "python",
   "nbconvert_exporter": "python",
   "pygments_lexer": "ipython3",
   "version": "3.6.4"
  }
 },
 "nbformat": 4,
 "nbformat_minor": 2
}
