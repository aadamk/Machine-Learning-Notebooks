{
 "cells": [
  {
   "cell_type": "markdown",
   "metadata": {},
   "source": [
    "# Graphs"
   ]
  },
  {
   "cell_type": "code",
   "execution_count": 1,
   "metadata": {},
   "outputs": [
    {
     "name": "stdout",
     "output_type": "stream",
     "text": [
      "Requirement already satisfied: networkx in c:\\users\\gsx\\anaconda3\\lib\\site-packages\n",
      "Requirement already satisfied: decorator>=4.1.0 in c:\\users\\gsx\\anaconda3\\lib\\site-packages (from networkx)\n"
     ]
    }
   ],
   "source": [
    "!pip install networkx\n",
    "\n",
    "# Disable Python warning messages\n",
    "\n",
    "import warnings\n",
    "warnings.filterwarnings('ignore')"
   ]
  },
  {
   "cell_type": "markdown",
   "metadata": {},
   "source": [
    "## Spark Setup"
   ]
  },
  {
   "cell_type": "code",
   "execution_count": 2,
   "metadata": {
    "collapsed": true
   },
   "outputs": [],
   "source": [
    "#  Connect to Spark\n",
    "from pyspark.sql import SparkSession\n",
    "from pyspark.sql.types import *\n",
    "import pyspark.sql.functions as F\n",
    "\n",
    "spark = SparkSession.builder.appName('Graphs-HW2').getOrCreate()"
   ]
  },
  {
   "cell_type": "markdown",
   "metadata": {},
   "source": [
    "## Load Stackoverflow data\n",
    "Tracks answered questions, questions commented on but not answered, and comments to answers"
   ]
  },
  {
   "cell_type": "code",
   "execution_count": 3,
   "metadata": {
    "collapsed": true
   },
   "outputs": [],
   "source": [
    "# Read lines from the text file\n",
    "\n",
    "answers_sdf = spark.read.load('sx-stackoverflow-a2q.txt', format=\"text\")\n",
    "comments_answers_sdf = spark.read.load('sx-stackoverflow-c2a.txt', format=\"text\")\n",
    "comments_questions_sdf = spark.read.load('sx-stackoverflow-c2q.txt', format=\"text\")\n",
    "\n"
   ]
  },
  {
   "cell_type": "markdown",
   "metadata": {},
   "source": [
    "## Results"
   ]
  },
  {
   "cell_type": "code",
   "execution_count": 5,
   "metadata": {},
   "outputs": [
    {
     "data": {
      "text/plain": [
       "17823525"
      ]
     },
     "execution_count": 5,
     "metadata": {},
     "output_type": "execute_result"
    }
   ],
   "source": [
    "answers_sdf.count()"
   ]
  },
  {
   "cell_type": "code",
   "execution_count": 6,
   "metadata": {},
   "outputs": [
    {
     "name": "stdout",
     "output_type": "stream",
     "text": [
      "+----------------+\n",
      "|           value|\n",
      "+----------------+\n",
      "|  9 8 1217567877|\n",
      "|  1 1 1217573801|\n",
      "| 13 1 1217606247|\n",
      "| 17 1 1217617639|\n",
      "| 48 2 1217618182|\n",
      "| 17 1 1217618239|\n",
      "| 19 9 1217618357|\n",
      "|13 23 1217618560|\n",
      "|13 11 1217618799|\n",
      "|23 23 1217619360|\n",
      "+----------------+\n",
      "only showing top 10 rows\n",
      "\n"
     ]
    }
   ],
   "source": [
    "answers_sdf.show(10)"
   ]
  },
  {
   "cell_type": "code",
   "execution_count": 7,
   "metadata": {},
   "outputs": [
    {
     "name": "stdout",
     "output_type": "stream",
     "text": [
      "root\n",
      " |-- value: string (nullable = true)\n",
      "\n"
     ]
    }
   ],
   "source": [
    "answers_sdf.printSchema()"
   ]
  },
  {
   "cell_type": "code",
   "execution_count": 8,
   "metadata": {},
   "outputs": [
    {
     "data": {
      "text/plain": [
       "25405374"
      ]
     },
     "execution_count": 8,
     "metadata": {},
     "output_type": "execute_result"
    }
   ],
   "source": [
    "comments_answers_sdf.count()"
   ]
  },
  {
   "cell_type": "code",
   "execution_count": 9,
   "metadata": {},
   "outputs": [
    {
     "name": "stdout",
     "output_type": "stream",
     "text": [
      "+--------------------+\n",
      "|               value|\n",
      "+--------------------+\n",
      "|     1 91 1220713630|\n",
      "|     3 91 1220713792|\n",
      "|  380 350 1220715736|\n",
      "|4642 2257 1220734307|\n",
      "|4642 1324220 1220...|\n",
      "|2495 4285 1220736640|\n",
      "|4642 4893 1220737355|\n",
      "|2515 4903 1220738560|\n",
      "|2515 4893 1220739071|\n",
      "|  199 199 1220741079|\n",
      "+--------------------+\n",
      "only showing top 10 rows\n",
      "\n"
     ]
    }
   ],
   "source": [
    "comments_answers_sdf.show(10)"
   ]
  },
  {
   "cell_type": "code",
   "execution_count": 10,
   "metadata": {},
   "outputs": [
    {
     "name": "stdout",
     "output_type": "stream",
     "text": [
      "root\n",
      " |-- value: string (nullable = true)\n",
      "\n"
     ]
    }
   ],
   "source": [
    "comments_answers_sdf.printSchema()"
   ]
  },
  {
   "cell_type": "code",
   "execution_count": 11,
   "metadata": {},
   "outputs": [
    {
     "data": {
      "text/plain": [
       "20268151"
      ]
     },
     "execution_count": 11,
     "metadata": {},
     "output_type": "execute_result"
    }
   ],
   "source": [
    "comments_questions_sdf.count()"
   ]
  },
  {
   "cell_type": "code",
   "execution_count": 12,
   "metadata": {},
   "outputs": [
    {
     "name": "stdout",
     "output_type": "stream",
     "text": [
      "+--------------------+\n",
      "|               value|\n",
      "+--------------------+\n",
      "|4550 4550 1220729190|\n",
      "|  242 184 1220733503|\n",
      "|4213 4946 1220768149|\n",
      "|    91 91 1220768295|\n",
      "|2658 1874 1220771891|\n",
      "|4035 1874 1220773037|\n",
      "|2257 4489 1220802041|\n",
      "|  577 577 1220834891|\n",
      "|4489 4489 1220853536|\n",
      "| 828 2783 1220854143|\n",
      "+--------------------+\n",
      "only showing top 10 rows\n",
      "\n"
     ]
    }
   ],
   "source": [
    "comments_questions_sdf.show(10)"
   ]
  },
  {
   "cell_type": "code",
   "execution_count": 3,
   "metadata": {},
   "outputs": [
    {
     "name": "stdout",
     "output_type": "stream",
     "text": [
      "root\n",
      " |-- value: string (nullable = true)\n",
      "\n"
     ]
    }
   ],
   "source": [
    "comments_questions_sdf.printSchema()"
   ]
  },
  {
   "cell_type": "markdown",
   "metadata": {},
   "source": [
    "## Step 2.3"
   ]
  },
  {
   "cell_type": "code",
   "execution_count": 6,
   "metadata": {
    "collapsed": true
   },
   "outputs": [],
   "source": [
    "# Wrangling work \n",
    "answers_sdf=answers_sdf.select(F.split(answers_sdf['value'], ' ')[0].alias('from_node').cast('integer'), \n",
    "                   F.split(answers_sdf['value'], ' ')[1].alias('to_node').cast('integer'))"
   ]
  },
  {
   "cell_type": "code",
   "execution_count": 4,
   "metadata": {
    "collapsed": true
   },
   "outputs": [],
   "source": [
    "comments_questions_sdf=comments_questions_sdf.select(F.split(comments_questions_sdf['value'], ' ')[0].alias('from_node').cast('integer'), \n",
    "                   F.split(comments_questions_sdf['value'], ' ')[1].alias('to_node').cast('integer'))"
   ]
  },
  {
   "cell_type": "code",
   "execution_count": 8,
   "metadata": {
    "collapsed": true
   },
   "outputs": [],
   "source": [
    "comments_answers_sdf=comments_answers_sdf.select(F.split(comments_answers_sdf['value'], ' ')[0].alias('from_node').cast('integer'), \n",
    "                   F.split(comments_answers_sdf['value'], ' ')[1].alias('to_node').cast('integer'))"
   ]
  },
  {
   "cell_type": "code",
   "execution_count": 9,
   "metadata": {
    "collapsed": true
   },
   "outputs": [],
   "source": [
    "answers_sdf=answers_sdf.withColumn('edge_type', F.lit('answer'))\n"
   ]
  },
  {
   "cell_type": "code",
   "execution_count": 10,
   "metadata": {
    "collapsed": true
   },
   "outputs": [],
   "source": [
    "comments_answers_sdf=comments_answers_sdf.withColumn('edge_type', F.lit('comment-on-answer'))\n"
   ]
  },
  {
   "cell_type": "code",
   "execution_count": 5,
   "metadata": {
    "collapsed": true
   },
   "outputs": [],
   "source": [
    "comments_questions_sdf=comments_questions_sdf.withColumn('edge_type', F.lit('comment-on-question'))\n"
   ]
  },
  {
   "cell_type": "code",
   "execution_count": 12,
   "metadata": {
    "collapsed": true
   },
   "outputs": [],
   "source": [
    "\n",
    "graph_sdf=answers_sdf.unionAll(comments_questions_sdf).unionAll(comments_answers_sdf)"
   ]
  },
  {
   "cell_type": "markdown",
   "metadata": {},
   "source": [
    "## Results"
   ]
  },
  {
   "cell_type": "code",
   "execution_count": 21,
   "metadata": {},
   "outputs": [
    {
     "data": {
      "text/plain": [
       "17823525"
      ]
     },
     "execution_count": 21,
     "metadata": {},
     "output_type": "execute_result"
    }
   ],
   "source": [
    "answers_sdf.count()"
   ]
  },
  {
   "cell_type": "code",
   "execution_count": 22,
   "metadata": {},
   "outputs": [
    {
     "name": "stdout",
     "output_type": "stream",
     "text": [
      "+---------+-------+---------+\n",
      "|from_node|to_node|edge_type|\n",
      "+---------+-------+---------+\n",
      "|        9|      8|   answer|\n",
      "|        1|      1|   answer|\n",
      "|       13|      1|   answer|\n",
      "|       17|      1|   answer|\n",
      "|       48|      2|   answer|\n",
      "+---------+-------+---------+\n",
      "only showing top 5 rows\n",
      "\n"
     ]
    }
   ],
   "source": [
    "answers_sdf.show(5)"
   ]
  },
  {
   "cell_type": "code",
   "execution_count": 23,
   "metadata": {},
   "outputs": [
    {
     "name": "stdout",
     "output_type": "stream",
     "text": [
      "root\n",
      " |-- from_node: integer (nullable = true)\n",
      " |-- to_node: integer (nullable = true)\n",
      " |-- edge_type: string (nullable = false)\n",
      "\n"
     ]
    }
   ],
   "source": [
    "answers_sdf.printSchema()"
   ]
  },
  {
   "cell_type": "code",
   "execution_count": 24,
   "metadata": {},
   "outputs": [
    {
     "data": {
      "text/plain": [
       "25405374"
      ]
     },
     "execution_count": 24,
     "metadata": {},
     "output_type": "execute_result"
    }
   ],
   "source": [
    "comments_answers_sdf.count()"
   ]
  },
  {
   "cell_type": "code",
   "execution_count": 25,
   "metadata": {},
   "outputs": [
    {
     "name": "stdout",
     "output_type": "stream",
     "text": [
      "+---------+-------+-----------------+\n",
      "|from_node|to_node|        edge_type|\n",
      "+---------+-------+-----------------+\n",
      "|        1|     91|comment-on-answer|\n",
      "|        3|     91|comment-on-answer|\n",
      "|      380|    350|comment-on-answer|\n",
      "|     4642|   2257|comment-on-answer|\n",
      "|     4642|1324220|comment-on-answer|\n",
      "+---------+-------+-----------------+\n",
      "only showing top 5 rows\n",
      "\n"
     ]
    }
   ],
   "source": [
    "comments_answers_sdf.show(5)"
   ]
  },
  {
   "cell_type": "code",
   "execution_count": 26,
   "metadata": {},
   "outputs": [
    {
     "name": "stdout",
     "output_type": "stream",
     "text": [
      "root\n",
      " |-- from_node: integer (nullable = true)\n",
      " |-- to_node: integer (nullable = true)\n",
      " |-- edge_type: string (nullable = false)\n",
      "\n"
     ]
    }
   ],
   "source": [
    "comments_answers_sdf.printSchema()"
   ]
  },
  {
   "cell_type": "code",
   "execution_count": 27,
   "metadata": {},
   "outputs": [
    {
     "data": {
      "text/plain": [
       "20268151"
      ]
     },
     "execution_count": 27,
     "metadata": {},
     "output_type": "execute_result"
    }
   ],
   "source": [
    " comments_questions_sdf.count()"
   ]
  },
  {
   "cell_type": "code",
   "execution_count": 28,
   "metadata": {},
   "outputs": [
    {
     "name": "stdout",
     "output_type": "stream",
     "text": [
      "+---------+-------+-------------------+\n",
      "|from_node|to_node|          edge_type|\n",
      "+---------+-------+-------------------+\n",
      "|     4550|   4550|comment-on-question|\n",
      "|      242|    184|comment-on-question|\n",
      "|     4213|   4946|comment-on-question|\n",
      "|       91|     91|comment-on-question|\n",
      "|     2658|   1874|comment-on-question|\n",
      "+---------+-------+-------------------+\n",
      "only showing top 5 rows\n",
      "\n"
     ]
    }
   ],
   "source": [
    "comments_questions_sdf.show(5)"
   ]
  },
  {
   "cell_type": "code",
   "execution_count": 29,
   "metadata": {},
   "outputs": [
    {
     "name": "stdout",
     "output_type": "stream",
     "text": [
      "root\n",
      " |-- from_node: integer (nullable = true)\n",
      " |-- to_node: integer (nullable = true)\n",
      " |-- edge_type: string (nullable = false)\n",
      "\n"
     ]
    }
   ],
   "source": [
    "comments_questions_sdf.printSchema()"
   ]
  },
  {
   "cell_type": "code",
   "execution_count": 30,
   "metadata": {},
   "outputs": [
    {
     "data": {
      "text/plain": [
       "63497050"
      ]
     },
     "execution_count": 30,
     "metadata": {},
     "output_type": "execute_result"
    }
   ],
   "source": [
    "graph_sdf.count()"
   ]
  },
  {
   "cell_type": "code",
   "execution_count": 31,
   "metadata": {},
   "outputs": [
    {
     "name": "stdout",
     "output_type": "stream",
     "text": [
      "+---------+-------+---------+\n",
      "|from_node|to_node|edge_type|\n",
      "+---------+-------+---------+\n",
      "|        9|      8|   answer|\n",
      "|        1|      1|   answer|\n",
      "|       13|      1|   answer|\n",
      "|       17|      1|   answer|\n",
      "|       48|      2|   answer|\n",
      "+---------+-------+---------+\n",
      "only showing top 5 rows\n",
      "\n"
     ]
    }
   ],
   "source": [
    "graph_sdf.show(5)"
   ]
  },
  {
   "cell_type": "code",
   "execution_count": 32,
   "metadata": {},
   "outputs": [
    {
     "name": "stdout",
     "output_type": "stream",
     "text": [
      "root\n",
      " |-- from_node: integer (nullable = true)\n",
      " |-- to_node: integer (nullable = true)\n",
      " |-- edge_type: string (nullable = false)\n",
      "\n"
     ]
    }
   ],
   "source": [
    "graph_sdf.printSchema()"
   ]
  },
  {
   "cell_type": "markdown",
   "metadata": {},
   "source": [
    "## Results"
   ]
  },
  {
   "cell_type": "code",
   "execution_count": 33,
   "metadata": {},
   "outputs": [
    {
     "name": "stdout",
     "output_type": "stream",
     "text": [
      "+-------+-----+\n",
      "|to_node|count|\n",
      "+-------+-----+\n",
      "|   4653| 5453|\n",
      "|  39677| 4971|\n",
      "|  34537| 4391|\n",
      "| 179736| 3716|\n",
      "|  84201| 3710|\n",
      "| 117700| 3607|\n",
      "|   4639| 3275|\n",
      "| 875317| 3004|\n",
      "|  65387| 2892|\n",
      "| 146780| 2789|\n",
      "+-------+-----+\n",
      "only showing top 10 rows\n",
      "\n"
     ]
    }
   ],
   "source": [
    "# TODO: output dataframe with top 10 users by number of questions\n",
    "answers_sdf.groupBy('to_node').count().orderBy('count', ascending=False).show(10)"
   ]
  },
  {
   "cell_type": "code",
   "execution_count": 34,
   "metadata": {},
   "outputs": [
    {
     "name": "stdout",
     "output_type": "stream",
     "text": [
      "+---------+-----+\n",
      "|from_node|count|\n",
      "+---------+-----+\n",
      "|    22656|32030|\n",
      "|  1144035|25146|\n",
      "|    29407|20842|\n",
      "|   548225|16944|\n",
      "|   157882|16615|\n",
      "|   115145|16515|\n",
      "|    17034|15437|\n",
      "|   100297|15020|\n",
      "|     6309|14291|\n",
      "|    34397|14033|\n",
      "+---------+-----+\n",
      "only showing top 10 rows\n",
      "\n"
     ]
    }
   ],
   "source": [
    "# output top 10 users by number of answers to questions by distinct users\n",
    "answers_sdf.groupBy('from_node').count().orderBy('count', ascending=False).distinct().show(10)\n"
   ]
  },
  {
   "cell_type": "code",
   "execution_count": 35,
   "metadata": {},
   "outputs": [
    {
     "data": {
      "text/plain": [
       "503354"
      ]
     },
     "execution_count": 35,
     "metadata": {},
     "output_type": "execute_result"
    }
   ],
   "source": [
    "# number of users whose questions have never been answered or commented on\n",
    "comments_questions_sdf.join(answers_sdf, 'to_node', 'left_anti').count()"
   ]
  },
  {
   "cell_type": "code",
   "execution_count": 21,
   "metadata": {},
   "outputs": [
    {
     "name": "stdout",
     "output_type": "stream",
     "text": [
      "+---------+-------+------+\n",
      "|from_node|to_node|mutual|\n",
      "+---------+-------+------+\n",
      "|    15168| 366797|    65|\n",
      "|   505088| 650492|    57|\n",
      "|  1525840|1675891|    49|\n",
      "|  2138752|2313718|    46|\n",
      "|  1931641|1642617|    41|\n",
      "|    22656|  51816|    40|\n",
      "|   143305|  37751|    37|\n",
      "|   298661| 252000|    33|\n",
      "|    22656|   4639|    32|\n",
      "|   139459|  84201|    32|\n",
      "+---------+-------+------+\n",
      "only showing top 10 rows\n",
      "\n"
     ]
    }
   ],
   "source": [
    "# top 10 pairs of users by mutual answers, along with the number of questions they have mutually answered\n",
    "from pyspark.sql.functions import col\n",
    "\n",
    "a=answers_sdf.groupBy(['from_node', 'to_node']).count()\n",
    "b=a\n",
    "b=b.select(col('to_node').alias('to_node2'), col('from_node').alias('from_node2'), col('count').alias('count2'))\n",
    "cond=[(a.from_node == b.to_node2) & (a.to_node == b.from_node2), a['count'] > b['count2']]\n",
    "a.join(b,cond,'inner').dropna().withColumn('mutual', a['count']+b['count2']).orderBy('mutual', ascending=False).selectExpr('from_node','to_node','mutual').show(10)\n",
    "\n"
   ]
  },
  {
   "cell_type": "code",
   "execution_count": 121,
   "metadata": {
    "collapsed": true
   },
   "outputs": [],
   "source": [
    "\n",
    "\n",
    "from pyspark.sql.functions import col\n",
    "\n",
    "highest_indegree_sdf = graph_sdf.groupBy('to_node').count().orderBy('count', ascending=False).select(col(\"to_node\").alias(\"node\"), \n",
    "                                                                                                     col(\"count\").alias(\"in_degree\"))\n",
    "\n",
    "highest_outdegree_sdf = graph_sdf.groupBy('from_node').count().orderBy('count', ascending=False).select(col(\"from_node\").alias(\"node\"), \n",
    "                                                                                                     col(\"count\").alias(\"out_degree\"))\n",
    "\n"
   ]
  },
  {
   "cell_type": "code",
   "execution_count": 122,
   "metadata": {},
   "outputs": [
    {
     "name": "stdout",
     "output_type": "stream",
     "text": [
      "+-------+---------+\n",
      "|   node|in_degree|\n",
      "+-------+---------+\n",
      "|  22656|    93143|\n",
      "| 548225|    54410|\n",
      "|  29407|    45824|\n",
      "| 157882|    39576|\n",
      "|1144035|    38909|\n",
      "+-------+---------+\n",
      "only showing top 5 rows\n",
      "\n"
     ]
    }
   ],
   "source": [
    "highest_indegree_sdf.selectExpr('node','in_degree').show(5)\n"
   ]
  },
  {
   "cell_type": "code",
   "execution_count": 123,
   "metadata": {},
   "outputs": [
    {
     "name": "stdout",
     "output_type": "stream",
     "text": [
      "+-------+----------+\n",
      "|   node|out_degree|\n",
      "+-------+----------+\n",
      "|  22656|    101663|\n",
      "| 505088|     65522|\n",
      "|  17034|     65260|\n",
      "|1491895|     62746|\n",
      "| 100297|     54330|\n",
      "+-------+----------+\n",
      "only showing top 5 rows\n",
      "\n"
     ]
    }
   ],
   "source": [
    "highest_outdegree_sdf.selectExpr('node','out_degree').show(5)"
   ]
  },
  {
   "cell_type": "code",
   "execution_count": 6,
   "metadata": {
    "collapsed": true
   },
   "outputs": [],
   "source": [
    "#\n",
    "# Breadth-first search\n",
    "#\n",
    "\n",
    "from pyspark import SparkContext as sc\n",
    "from pyspark.sql.functions import col\n",
    "\n",
    "def spark_bfs(G, origins, max_depth):\n",
    "\n",
    "    schema = StructType([StructField(\"node\", IntegerType(), True)])\n",
    "    origins_sdf = spark.createDataFrame(origins, schema)\n",
    "    origins_sdf=origins_sdf.withColumn('depth', F.lit(0))    \n",
    "    frontier=origins_sdf\n",
    "    for i in range(1,max_depth+1):\n",
    "        visited=frontier.join(G, frontier['node']==G['from_node'],'left')\n",
    "        visited2=visited.selectExpr('node', 'depth')\n",
    "        visited3=visited.selectExpr('to_node').select(col('to_node').alias('node')).withColumn('depth',F.lit(i))\n",
    "        visited=visited2.unionAll(visited3)\n",
    "        frontier=visited.join(frontier, visited.node == frontier.node, 'left_anti').dropDuplicates()\n",
    "  \n",
    "    return origins_sdf.unionAll(visited).dropna()\n"
   ]
  },
  {
   "cell_type": "code",
   "execution_count": 8,
   "metadata": {},
   "outputs": [
    {
     "data": {
      "text/plain": [
       "1931"
      ]
     },
     "execution_count": 8,
     "metadata": {},
     "output_type": "execute_result"
    }
   ],
   "source": [
    "\n",
    "\n",
    "# Breadth first search from origin nodes 4550 and 242\n",
    "origin_map = [{'node': 4550}, {'node': 242}]\n",
    "bfs_sdf = spark_bfs(comments_questions_sdf, origin_map, 2)\n",
    "bfs_sdf.count()"
   ]
  },
  {
   "cell_type": "code",
   "execution_count": 34,
   "metadata": {},
   "outputs": [
    {
     "name": "stdout",
     "output_type": "stream",
     "text": [
      "+-------+-----+\n",
      "|   node|depth|\n",
      "+-------+-----+\n",
      "|   4550|    0|\n",
      "|    242|    0|\n",
      "|1619254|    1|\n",
      "|2332659|    1|\n",
      "|2332659|    1|\n",
      "|2332659|    1|\n",
      "|2332659|    1|\n",
      "|2332659|    1|\n",
      "|2332659|    1|\n",
      "|2332659|    1|\n",
      "+-------+-----+\n",
      "only showing top 10 rows\n",
      "\n"
     ]
    }
   ],
   "source": [
    "bfs_sdf.show(10)"
   ]
  },
  {
   "cell_type": "code",
   "execution_count": 9,
   "metadata": {
    "collapsed": true
   },
   "outputs": [],
   "source": [
    "#\n",
    "# Friend recommendations - return set of recommendations for noes that are non-adjacent\n",
    "\n",
    "\n",
    "from pyspark.sql.functions import col\n",
    "\n",
    "\n",
    "def friend_rec(input_sdf, graph_sdf):\n",
    "    \n",
    "\n",
    "    input_sdf=input_sdf.select(col('node').alias('from_node2'))\n",
    "    b=input_sdf.select(col('from_node2').alias('to_node2'))\n",
    "    input2_sdf=input_sdf.join(b, input_sdf.from_node2!=b.to_node2, 'inner')\n",
    "    cond=[(input2_sdf.from_node2 == graph_sdf.to_node) & (input2_sdf.to_node2 == graph_sdf.from_node)]\n",
    "    friend_recommendations_sdf=input2_sdf.join(graph_sdf,cond,'left_anti').selectExpr('from_node2','to_node2')\n",
    "    \n",
    "    \n",
    "    \n",
    "    \n",
    "    return friend_recommendations_sdf"
   ]
  },
  {
   "cell_type": "code",
   "execution_count": 10,
   "metadata": {
    "collapsed": true
   },
   "outputs": [],
   "source": [
    "\n",
    "filtered_bfs_sdf=bfs_sdf[bfs_sdf['depth']==2]\n",
    "filtered_bfs_sdf=filtered_bfs_sdf.groupBy('node').count()\n",
    "filtered_bfs_sdf=filtered_bfs_sdf.filter(filtered_bfs_sdf['count']>1).dropDuplicates()"
   ]
  },
  {
   "cell_type": "code",
   "execution_count": 11,
   "metadata": {},
   "outputs": [
    {
     "data": {
      "text/plain": [
       "3377"
      ]
     },
     "execution_count": 11,
     "metadata": {},
     "output_type": "execute_result"
    }
   ],
   "source": [
    "\n",
    "\n",
    "# Output of friend_rec based on non-adjacency\n",
    "\n",
    "friend_recommendations_sdf = friend_rec(filtered_bfs_sdf, comments_questions_sdf)\n",
    "friend_recommendations_sdf.count()"
   ]
  },
  {
   "cell_type": "markdown",
   "metadata": {},
   "source": [
    "## Results"
   ]
  },
  {
   "cell_type": "code",
   "execution_count": 23,
   "metadata": {},
   "outputs": [
    {
     "name": "stdout",
     "output_type": "stream",
     "text": [
      "+----------+--------+\n",
      "|from_node2|to_node2|\n",
      "+----------+--------+\n",
      "|     21918|  453447|\n",
      "|     21918| 4204628|\n",
      "|     45459|   59017|\n",
      "|     46646|  267679|\n",
      "|     59017| 1187554|\n",
      "|    102427| 3240545|\n",
      "|    104015|   55503|\n",
      "|    211452|   59017|\n",
      "|    451383|   59017|\n",
      "|    503032|     184|\n",
      "|    503032| 2269511|\n",
      "|   1406214|  503032|\n",
      "|   2269511|   21918|\n",
      "|   2332659|  397185|\n",
      "|   2332659| 1127460|\n",
      "|   3830157|  132640|\n",
      "|   4204628|   47550|\n",
      "|       184|  139605|\n",
      "|     24872| 1684384|\n",
      "|     46646| 1127460|\n",
      "+----------+--------+\n",
      "only showing top 20 rows\n",
      "\n"
     ]
    }
   ],
   "source": [
    "friend_recommendations_sdf.show()"
   ]
  },
  {
   "cell_type": "markdown",
   "metadata": {},
   "source": [
    "## Graph visualization"
   ]
  },
  {
   "cell_type": "code",
   "execution_count": 15,
   "metadata": {},
   "outputs": [],
   "source": [
    "import networkx as nx\n",
    "\n",
    "# create friend_graph NetworkX graph from friend_recommendations_df from friend_recommendations_sdf\n",
    "friend_rec_df = friend_recommendations_sdf.toPandas()\n",
    "friend_graph=nx.from_pandas_dataframe(friend_rec_df,'from_node2','to_node2')"
   ]
  },
  {
   "cell_type": "code",
   "execution_count": 16,
   "metadata": {},
   "outputs": [
    {
     "name": "stdout",
     "output_type": "stream",
     "text": [
      "Number of nodes (characters) in this graph is 59\n",
      "Number of edges in this graph is 1710\n",
      "Graph diameter is 2\n"
     ]
    }
   ],
   "source": [
    "print (\"Number of nodes (characters) in this graph is\", friend_graph.order()) # number of nodes\n",
    "print (\"Number of edges in this graph is\", len(friend_graph.edges())) # number of edges\n",
    "print (\"Graph diameter is\", nx.diameter(friend_graph)) # maximum eccentricity"
   ]
  },
  {
   "cell_type": "code",
   "execution_count": 17,
   "metadata": {},
   "outputs": [
    {
     "data": {
      "image/png": "[encoded data removed]",
      "text/plain": [
       "<matplotlib.figure.Figure at 0xab10e80>"
      ]
     },
     "metadata": {},
     "output_type": "display_data"
    }
   ],
   "source": [
    " %matplotlib inline\n",
    " nx.draw(friend_graph)"
   ]
  },
  {
   "cell_type": "code",
   "execution_count": null,
   "metadata": {
    "collapsed": true
   },
   "outputs": [],
   "source": []
  }
 ],
 "metadata": {
  "kernelspec": {
   "display_name": "Python 3",
   "language": "python",
   "name": "python3"
  },
  "language_info": {
   "codemirror_mode": {
    "name": "ipython",
    "version": 3
   },
   "file_extension": ".py",
   "mimetype": "text/x-python",
   "name": "python",
   "nbconvert_exporter": "python",
   "pygments_lexer": "ipython3",
   "version": "3.6.4"
  }
 },
 "nbformat": 4,
 "nbformat_minor": 2
}
