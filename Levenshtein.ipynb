{
 "cells": [
  {
   "cell_type": "code",
   "execution_count": 41,
   "metadata": {
    "collapsed": true
   },
   "outputs": [],
   "source": [
    "#Find protein homologs by computing levenshtein distance via dynamic programming\n",
    "import numpy as np\n",
    "\n",
    "aa=['G','A','V','L','I','S','C','T','M','P','F','Y','W','H','K','R','D','E','N','Q','X']\n",
    "\n",
    "classes=['aliphatic','aliphatic','aliphatic','aliphatic','aliphatic','Hydroxyl','Hydroxyl','Hydroxyl','Hydroxyl','Cyclic','Aromatic','Aromatic','Aromatic','Basic','Basic','Basic','Acidic','Acidic','Acidic','Acidic','Any']\n",
    "aa_dict = {}\n",
    "for i in range(len(aa)):\n",
    "    aa_dict[aa[i]] = classes[i]\n",
    "\n",
    "\n",
    "def levenshtein(sequence1,sequence2):\n",
    "    \n",
    "    if len(sequence1)<len(sequence2):\n",
    "        return levenshtein(sequence2,sequence1)\n",
    "    \n",
    "    if len(sequence2)==0:\n",
    "        return len(sequence1)\n",
    "    memo=np.zeros((len(sequence1)+1,len(sequence2)+1),np.int8)\n",
    "    \n",
    "    memo[0]=range(len(sequence2)+1)\n",
    "    \n",
    "    for i,c1 in enumerate(sequence1):\n",
    "        memo[i+1, 0]=i+1\n",
    "        for j,c2 in enumerate(sequence2):\n",
    "            insertions=memo[i,j+1]+1\n",
    "            deletions=memo[i+1,j]+1\n",
    "            if aa_dict[sequence1[i]] != aa_dict[sequence2[j]]:\n",
    "                substitutions=memo[i,j]+2*(c1 != c2)\n",
    "            elif aa_dict[sequence1[i]] == aa_dict[sequence2[j]]:\n",
    "                substitutions=memo[i,j]+(c1 != c2)\n",
    "            memo[i+1,j+1]=min(insertions,deletions,substitutions)\n",
    "    return memo[-1,-1]\n",
    "\n"
   ]
  },
  {
   "cell_type": "code",
   "execution_count": 12,
   "metadata": {},
   "outputs": [
    {
     "data": {
      "text/plain": [
       "66"
      ]
     },
     "execution_count": 12,
     "metadata": {},
     "output_type": "execute_result"
    }
   ],
   "source": [
    "#Read in fasta file\n",
    "seq_dict={}\n",
    "with open('proteins.fasta', \"r\") as file:\n",
    "    for line in file:\n",
    "        if line.startswith('>'):\n",
    "            x=line.strip('\\n')\n",
    "            y=next(file)\n",
    "            y=y.strip('\\n')\n",
    "            seq_dict[x] = y\n",
    "\n",
    "#test levenshtein\n",
    "seq1=seq_dict['>NP_000940.1 prolactin receptor isoform 1 precursor [Homo sapiens]']\n",
    "seq2=['P','I','D','N','Y','L','K','L','L','K','C','R','I','I','H','N','N','N','C']\n",
    "\n",
    "levenshtein(seq1,seq2)"
   ]
  },
  {
   "cell_type": "code",
   "execution_count": 42,
   "metadata": {
    "collapsed": true
   },
   "outputs": [],
   "source": [
    "import pandas as pd\n",
    "def output_k_homologs(reference_sequence,k):\n",
    "    new_seq_dict=dict((x, v) for x, v in seq_dict.items() if v != reference_sequence)\n",
    "    results=pd.DataFrame([])\n",
    "    for i,j in new_seq_dict.items():\n",
    "        results = results.append(pd.DataFrame({'proteinName': i, 'levenshteinDistance': levenshtein(reference_sequence,j)}, index=[0]), ignore_index=True)\n",
    "    return results.sort_values(by='levenshteinDistance').head(k)\n",
    "\n",
    "        \n",
    "        "
   ]
  },
  {
   "cell_type": "code",
   "execution_count": 43,
   "metadata": {},
   "outputs": [
    {
     "data": {
      "text/html": [
       "<div>\n",
       "<style>\n",
       "    .dataframe thead tr:only-child th {\n",
       "        text-align: right;\n",
       "    }\n",
       "\n",
       "    .dataframe thead th {\n",
       "        text-align: left;\n",
       "    }\n",
       "\n",
       "    .dataframe tbody tr th {\n",
       "        vertical-align: top;\n",
       "    }\n",
       "</style>\n",
       "<table border=\"1\" class=\"dataframe\">\n",
       "  <thead>\n",
       "    <tr style=\"text-align: right;\">\n",
       "      <th></th>\n",
       "      <th>levenshteinDistance</th>\n",
       "      <th>proteinName</th>\n",
       "    </tr>\n",
       "  </thead>\n",
       "  <tbody>\n",
       "    <tr>\n",
       "      <th>768</th>\n",
       "      <td>11</td>\n",
       "      <td>&gt;NP_001254666.1 prolactin receptor precursor [...</td>\n",
       "    </tr>\n",
       "    <tr>\n",
       "      <th>728</th>\n",
       "      <td>17</td>\n",
       "      <td>&gt;NP_001001868.1 prolactin receptor precursor [...</td>\n",
       "    </tr>\n",
       "    <tr>\n",
       "      <th>753</th>\n",
       "      <td>20</td>\n",
       "      <td>&gt;NP_001075700.1 prolactin receptor precursor [...</td>\n",
       "    </tr>\n",
       "    <tr>\n",
       "      <th>737</th>\n",
       "      <td>27</td>\n",
       "      <td>&gt;NP_001272598.1 prolactin receptor precursor [...</td>\n",
       "    </tr>\n",
       "    <tr>\n",
       "      <th>723</th>\n",
       "      <td>27</td>\n",
       "      <td>&gt;NP_001034815.1 prolactin receptor long form p...</td>\n",
       "    </tr>\n",
       "    <tr>\n",
       "      <th>725</th>\n",
       "      <td>27</td>\n",
       "      <td>&gt;NP_776580.1 prolactin receptor short form pre...</td>\n",
       "    </tr>\n",
       "    <tr>\n",
       "      <th>731</th>\n",
       "      <td>33</td>\n",
       "      <td>&gt;NP_036762.1 prolactin receptor isoform b prec...</td>\n",
       "    </tr>\n",
       "    <tr>\n",
       "      <th>729</th>\n",
       "      <td>33</td>\n",
       "      <td>&gt;NP_001240711.1 prolactin receptor isoform 3 p...</td>\n",
       "    </tr>\n",
       "    <tr>\n",
       "      <th>727</th>\n",
       "      <td>33</td>\n",
       "      <td>&gt;NP_001029283.1 prolactin receptor isoform a p...</td>\n",
       "    </tr>\n",
       "    <tr>\n",
       "      <th>724</th>\n",
       "      <td>33</td>\n",
       "      <td>&gt;NP_035299.4 prolactin receptor isoform 1 prec...</td>\n",
       "    </tr>\n",
       "  </tbody>\n",
       "</table>\n",
       "</div>"
      ],
      "text/plain": [
       "     levenshteinDistance                                        proteinName\n",
       "768                   11  >NP_001254666.1 prolactin receptor precursor [...\n",
       "728                   17  >NP_001001868.1 prolactin receptor precursor [...\n",
       "753                   20  >NP_001075700.1 prolactin receptor precursor [...\n",
       "737                   27  >NP_001272598.1 prolactin receptor precursor [...\n",
       "723                   27  >NP_001034815.1 prolactin receptor long form p...\n",
       "725                   27  >NP_776580.1 prolactin receptor short form pre...\n",
       "731                   33  >NP_036762.1 prolactin receptor isoform b prec...\n",
       "729                   33  >NP_001240711.1 prolactin receptor isoform 3 p...\n",
       "727                   33  >NP_001029283.1 prolactin receptor isoform a p...\n",
       "724                   33  >NP_035299.4 prolactin receptor isoform 1 prec..."
      ]
     },
     "execution_count": 43,
     "metadata": {},
     "output_type": "execute_result"
    }
   ],
   "source": [
    "#output homologs\n",
    "output_k_homologs(seq1, 10)\n"
   ]
  },
  {
   "cell_type": "code",
   "execution_count": null,
   "metadata": {
    "collapsed": true
   },
   "outputs": [],
   "source": []
  }
 ],
 "metadata": {
  "kernelspec": {
   "display_name": "Python 3",
   "language": "python",
   "name": "python3"
  },
  "language_info": {
   "codemirror_mode": {
    "name": "ipython",
    "version": 3
   },
   "file_extension": ".py",
   "mimetype": "text/x-python",
   "name": "python",
   "nbconvert_exporter": "python",
   "pygments_lexer": "ipython3",
   "version": "3.6.4"
  }
 },
 "nbformat": 4,
 "nbformat_minor": 2
}
